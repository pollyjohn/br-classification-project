{
 "cells": [
  {
   "cell_type": "code",
   "execution_count": 1,
   "id": "5d5d39da-f92f-4363-98fd-d6c012f96efc",
   "metadata": {},
   "outputs": [
    {
     "name": "stdout",
     "output_type": "stream",
     "text": [
      "59\n"
     ]
    }
   ],
   "source": [
    "from random import randint\n",
    "print(randint(1,60))"
   ]
  },
  {
   "cell_type": "code",
   "execution_count": 4,
   "id": "8c66d83c-ef71-4844-aed5-95215ed0396b",
   "metadata": {},
   "outputs": [
    {
     "name": "stdout",
     "output_type": "stream",
     "text": [
      "[53, 46, 20, 30, 3, 40]\n"
     ]
    }
   ],
   "source": [
    "contador = 1\n",
    "sorteios = []\n",
    "while contador <= 6:\n",
    "    numero = randint(1,60)\n",
    "    if numero in sorteios:\n",
    "        continue\n",
    "    else:\n",
    "        sorteios.append(numero)\n",
    "        contador += 1\n",
    "print(sorteios)"
   ]
  },
  {
   "cell_type": "code",
   "execution_count": null,
   "id": "5fee1346-034d-4ac2-855e-56a3b1f87166",
   "metadata": {},
   "outputs": [],
   "source": []
  }
 ],
 "metadata": {
  "kernelspec": {
   "display_name": "Python 3",
   "language": "python",
   "name": "python3"
  },
  "language_info": {
   "codemirror_mode": {
    "name": "ipython",
    "version": 3
   },
   "file_extension": ".py",
   "mimetype": "text/x-python",
   "name": "python",
   "nbconvert_exporter": "python",
   "pygments_lexer": "ipython3",
   "version": "3.8.8"
  }
 },
 "nbformat": 4,
 "nbformat_minor": 5
}
