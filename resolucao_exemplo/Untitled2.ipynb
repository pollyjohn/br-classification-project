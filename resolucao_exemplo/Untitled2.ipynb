{
 "cells": [
  {
   "cell_type": "code",
   "execution_count": null,
   "id": "452607f2-b35c-4c30-b10b-01575cd8a00b",
   "metadata": {},
   "outputs": [],
   "source": [
    "def countHighlyProfitableMonths(stockPrices, k):\n",
    "    # Write your code here\n",
    "    stockPrices = [5,2,3,7,8]\n",
    "    k=3\n",
    "    stockPrices.sort(key=int,reverse=True) \n",
    "    stockPrices.pop(-1)   \n",
    "    return stockPrices/2"
   ]
  },
  {
   "cell_type": "code",
   "execution_count": 4,
   "id": "4238191a-b10b-401f-b886-52216d0df0e3",
   "metadata": {},
   "outputs": [
    {
     "data": {
      "text/plain": [
       "[8, 7, 5, 3]"
      ]
     },
     "execution_count": 4,
     "metadata": {},
     "output_type": "execute_result"
    }
   ],
   "source": [
    "stockPrices = [5,2,3,7,8]\n",
    "stockPrices.sort(key=int,reverse=True) \n",
    "stockPrices.pop(-1) \n",
    "stockPrices\n",
    "print(stockPrices.pop)\n",
    "stock\n",
    "\n",
    "#stockPrices.pop(-1)"
   ]
  },
  {
   "cell_type": "code",
   "execution_count": 41,
   "id": "8260ff07-9102-423a-ade8-c8b46ae5d200",
   "metadata": {},
   "outputs": [],
   "source": [
    "def countHighlyProfitableMonths(stockPrices, k):\n",
    "    # Write your code here\n",
    "    c= k-1\n",
    "    lista1 = []\n",
    "    lista2 = []\n",
    "    lista3 = [[lista1],[lista2]]\n",
    "    for i in range(len(stockPrices)):\n",
    "        if i > stockPrices[0] & stockPrices[2] > i:\n",
    "            lista1.append(i)\n",
    "            stockPrices.pop(0)\n",
    "            if len(lista1) == 3:\n",
    "                lista2.append(i)\n",
    "                if len(stockPrices) == 0:\n",
    "                    break\n",
    "    return len(lista3)"
   ]
  },
  {
   "cell_type": "code",
   "execution_count": 42,
   "id": "1f5d296c-61db-4ee8-b0c3-ff12f96cdd1d",
   "metadata": {},
   "outputs": [
    {
     "data": {
      "text/plain": [
       "2"
      ]
     },
     "execution_count": 42,
     "metadata": {},
     "output_type": "execute_result"
    }
   ],
   "source": [
    "countHighlyProfitableMonths([5,2,3,7,8], 3)"
   ]
  },
  {
   "cell_type": "code",
   "execution_count": null,
   "id": "25748f13-c504-40b4-93b0-43f84a874a5d",
   "metadata": {},
   "outputs": [],
   "source": []
  }
 ],
 "metadata": {
  "kernelspec": {
   "display_name": "Python 3",
   "language": "python",
   "name": "python3"
  },
  "language_info": {
   "codemirror_mode": {
    "name": "ipython",
    "version": 3
   },
   "file_extension": ".py",
   "mimetype": "text/x-python",
   "name": "python",
   "nbconvert_exporter": "python",
   "pygments_lexer": "ipython3",
   "version": "3.8.8"
  }
 },
 "nbformat": 4,
 "nbformat_minor": 5
}
